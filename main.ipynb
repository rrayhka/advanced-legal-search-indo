{
 "cells": [
  {
   "cell_type": "code",
   "execution_count": 1,
   "id": "3e4958a8",
   "metadata": {},
   "outputs": [],
   "source": [
    "import pypdf"
   ]
  },
  {
   "cell_type": "code",
   "execution_count": 2,
   "id": "2ffc043c",
   "metadata": {},
   "outputs": [],
   "source": [
    "pdf_file = open(\"pdfs/171.Pid.Sus.2024.PN.Gpr.pdf\", 'rb')\n",
    "pdf_reader = pypdf.PdfReader(\"pdfs/171.Pid.Sus.2024.PN.Gpr.pdf\")\n",
    "text = ''\n",
    "for page in range(len(pdf_reader.pages)):\n",
    "    page_text = pdf_reader.pages[page].extract_text()\n",
    "    text += page_text\n",
    "pdf_file.close()\n",
    "with open('analysis.txt', 'w', encoding='utf-8') as text_file:\n",
    "    text_file.write(text)"
   ]
  },
  {
   "cell_type": "code",
   "execution_count": 3,
   "id": "17fa8cc8",
   "metadata": {},
   "outputs": [
    {
     "name": "stdout",
     "output_type": "stream",
     "text": [
      "27\n"
     ]
    }
   ],
   "source": [
    "import re\n",
    "\n",
    "with open('analysis.txt', 'w', encoding='utf-8') as text_file:\n",
    "    text_file.write(text)\n",
    "\n",
    "text = re.sub(\n",
    "    r\"Mahkamah Agung Republik Indonesia.*?putusan.mahkamahagung.go.id\",\n",
    "    \"\\n\",\n",
    "    text,\n",
    "    flags=re.DOTALL\n",
    ")\n",
    "text = re.sub(\n",
    "    r\"Disclaimer.*?hubungi Kepaniteraan Mahkamah Agung RI melalui\\s*:\",\n",
    "    \"\",\n",
    "    text,\n",
    "    flags=re.DOTALL\n",
    ")\n",
    "text = re.sub(\n",
    "    r\"(Halaman\\s+\\d+)([^\\s])\",\n",
    "    r\"\\1\\n\\2\",\n",
    "    text\n",
    ")\n",
    "text = re.sub(r\"Email : kepaniteraan@mahkamahagung\\.go\\.id\\s+Telp : 021-384 3348 \\(ext\\.318\\).*\", \"\", text)\n",
    "match = re.search(r\"Halaman\\s+1\\s+dari\\s+(\\d+)\", text)\n",
    "last_halaman = int(match.group(1)) if match else None\n",
    "print(last_halaman)\n",
    "\n",
    "text = text.replace(\"1. Nama lengkap\", \"Nama lengkap\")\n",
    "text = text.replace(\"2. Tempat lahir\", \"Tempat lahir\")\n",
    "text = text.replace(\"3. Umur/Tanggal lahir\", \"Umur/Tanggal lahir\")\n",
    "text = text.replace(\"4. Jenis kelamin\", \"Jenis kelamin\")\n",
    "text = text.replace(\"5. Kebangsaan\", \"Kebangsaan\")\n",
    "text = text.replace(\"6. Tempat tinggal\", \"Tempat tinggal\")\n",
    "text = text.replace(\"7. Agama\", \"Agama\")\n",
    "text = text.replace(\"8. Pekerjaan\", \"Pekerjaan\")\n",
    "with open('analysis.txt', 'w', encoding='utf-8') as text_file:\n",
    "    text_file.write(text)"
   ]
  }
 ],
 "metadata": {
  "kernelspec": {
   "display_name": "venv",
   "language": "python",
   "name": "python3"
  },
  "language_info": {
   "codemirror_mode": {
    "name": "ipython",
    "version": 3
   },
   "file_extension": ".py",
   "mimetype": "text/x-python",
   "name": "python",
   "nbconvert_exporter": "python",
   "pygments_lexer": "ipython3",
   "version": "3.11.9"
  }
 },
 "nbformat": 4,
 "nbformat_minor": 5
}
